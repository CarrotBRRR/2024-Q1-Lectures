{
 "cells": [
  {
   "cell_type": "markdown",
   "metadata": {},
   "source": [
    "# Lecture 2\n",
    "***"
   ]
  },
  {
   "cell_type": "markdown",
   "metadata": {},
   "source": [
    "## Why do we need Data Formats?"
   ]
  },
  {
   "cell_type": "markdown",
   "metadata": {},
   "source": [
    "- A more `abstract`, `portable format` is required\n",
    "- `Users` may need to `move data in and out` of these programs.\n",
    "- `Another program` may have to communicate with this program in a\n",
    "similar way, and the programs may not even be written in the same\n",
    "language\n",
    "- We need a `standard format` to allow a diverse set of `software to communicate` \n",
    "with each other, and for humans to interface with it\n",
    "- All of the data formats that we’ll discuss in this chapter have broad\n",
    "support over a `multitude of languages` and operating systems"
   ]
  },
  {
   "cell_type": "markdown",
   "metadata": {},
   "source": [
    "## XML"
   ]
  },
  {
   "cell_type": "markdown",
   "metadata": {},
   "source": [
    "- YAML – human readability: `human to machine`\n",
    "- XML and JSON: `machine to machine`"
   ]
  },
  {
   "cell_type": "markdown",
   "metadata": {},
   "source": [
    "- root, children nodes, attributes\n",
    "- Namespaces"
   ]
  },
  {
   "cell_type": "markdown",
   "metadata": {},
   "source": [
    "### XML Example"
   ]
  },
  {
   "cell_type": "markdown",
   "metadata": {},
   "source": [
    "- From a programmatic perspective, this is ideal, since `each piece of data` is given\n",
    "its own easily `parseable field`.\n",
    "- This is key to understanding the different needs that a software system may have\n",
    "when `interacting with infrastructure components`, as opposed to a human being\n",
    "on the CLI\n",
    "<img src=\"./images/L2/L2-1.png\" alt=\"L2-1.png\" width=\"500\"/>"
   ]
  },
  {
   "cell_type": "markdown",
   "metadata": {},
   "source": [
    "### Benefits of XML"
   ]
  },
  {
   "cell_type": "markdown",
   "metadata": {},
   "source": [
    "- Support inter-business transactions\n",
    "- Maintain data integrity\n",
    "    - Verify data accuracy\n",
    "    - Automatically customize data presentation for different users\n",
    "    - Store data consistently across multiple platforms\n",
    "- Improve search efficiency\n",
    "- Design flexible applications"
   ]
  },
  {
   "cell_type": "markdown",
   "metadata": {},
   "source": [
    "## JSON"
   ]
  },
  {
   "cell_type": "markdown",
   "metadata": {},
   "source": [
    "- JSON was invented at a time when web developers were in need of a\n",
    "`lightweight communication` mechanism between web servers and\n",
    "applets embedded within web pages. XML was around at this time, of\n",
    "course, but it proved a bit too bloated to meet the needs of the ever-\n",
    "demanding internet.\n",
    "- JavaScript Object Notation (JSON) burst onto the scene in the early\n",
    "2000s. It aimed to be a `lightweight version of XML`, more suited to the\n",
    "data models found within popular programming languages. It’s also\n",
    "considered by many to be more `human-readable`, although that is a\n",
    "secondary concern for data formats."
   ]
  },
  {
   "cell_type": "markdown",
   "metadata": {},
   "source": [
    "### JSON Features"
   ]
  },
  {
   "cell_type": "markdown",
   "metadata": {},
   "source": [
    "- The whole thing is `wrapped in curly braces` {}. This is very common,\n",
    "and it indicates that JSON objects are contained inside.\n",
    "- Think of “objects” as `key-value pairs`, or `dictionaries`.\n",
    "- JSON objects always use `string values` when `describing the key`"
   ]
  },
  {
   "cell_type": "markdown",
   "metadata": {},
   "source": [
    "### JSON List"
   ]
  },
  {
   "cell_type": "markdown",
   "metadata": {},
   "source": [
    "- Indicated by the square brackets []\n",
    "- Data Types:\n",
    "    - Number\n",
    "    - String\n",
    "    - Boolean\n",
    "    - Array\n",
    "    - Object\n",
    "    - Null: nul"
   ]
  },
  {
   "cell_type": "markdown",
   "metadata": {},
   "source": [
    "### JSON in Python"
   ]
  },
  {
   "cell_type": "markdown",
   "metadata": {},
   "source": [
    "- JSON enjoys `wide support` across a myriad of languages\n",
    "- you will often be able to simply `import a JSON data structure` into\n",
    "constructs of a given language, simply with a `one-line command`\n",
    "\n",
    "<img src=\"./images/L2/L2-3.png\" alt=\"L2-3.png\" width=\"500\"/>\n",
    "\n",
    "<img src=\"./images/L2/L2-4.png\" alt=\"L2-4.png\" width=\"500\"/>\n"
   ]
  },
  {
   "cell_type": "markdown",
   "metadata": {},
   "source": [
    "## XML vs. JSON"
   ]
  },
  {
   "cell_type": "markdown",
   "metadata": {},
   "source": [
    "<img src=\"./images/L2/L2-2.png\" alt=\"L2-2.png\" width=\"500\"/>"
   ]
  },
  {
   "cell_type": "markdown",
   "metadata": {},
   "source": [
    "## YAML"
   ]
  },
  {
   "cell_type": "markdown",
   "metadata": {},
   "source": [
    "- YAML is `NOT Markup Language`\n",
    "    - The creators of YAML didn’t want it to become just some new markup\n",
    "standard, but a unique attempt to represent data in a human-readable way\n",
    "- YAML is a particularly `human-friendly data format`\n",
    "- It represents constructs like lists, key-value pairs, strings, and integers\n",
    "an increasing number of tools (see Ansible) are using YAML as a\n",
    "method of defining an automation workflow, or providing a data set\n",
    "to work with (like a list of VLANs)"
   ]
  },
  {
   "cell_type": "markdown",
   "metadata": {},
   "source": [
    "### YAML Basics"
   ]
  },
  {
   "cell_type": "markdown",
   "metadata": {},
   "source": [
    "- Use YAML to represent a list of network vendors\n",
    "\n",
    "    <img src=\"./images/L2/L2-5.png\" alt=\"L2-5.png\" width=\"100\"/>\n",
    "\n",
    "- Each item is a string\n",
    "- Usually no need for double-quote marks to indicate a string\n",
    "- Length of the list: 4"
   ]
  },
  {
   "cell_type": "markdown",
   "metadata": {},
   "source": [
    "- Three hyphens (---) at the top: indicates the beginning of the YAML\n",
    "document\n",
    "- Ellipsis (...) to indicate the end of a document\n",
    "- Multiple documents in one file or data stream.\n",
    "- Flexibility in data structure like Python\n",
    "\n",
    "    <img src=\"./images/L2/L2-6.png\" alt=\"L2-6.png\" width=\"500\"/>"
   ]
  },
  {
   "cell_type": "markdown",
   "metadata": {},
   "source": [
    "### YAML Boolean Types"
   ]
  },
  {
   "cell_type": "markdown",
   "metadata": {},
   "source": [
    "- Actually `very flexible`, and accept a wide variety of values that really\n",
    "end up meaning the same thing when interpreted by a YAML parser.\n",
    "- false Boolean value:\n",
    "    - False\n",
    "    - no\n",
    "    - off\n",
    "    - n\n",
    "- A big reason that YAML is often used as a human interface for many\n",
    "software projects"
   ]
  },
  {
   "cell_type": "markdown",
   "metadata": {},
   "source": [
    "## Identify Types of Data"
   ]
  },
  {
   "cell_type": "markdown",
   "metadata": {},
   "source": [
    "- It’s possible to help the parser figure out the type of data we wish to\n",
    "communicate\n",
    "- For instance, if we wanted the second item to be recognized as a\n",
    "string instead of an integer, we could enclose it in quotes (\"7700\")\n",
    "- Another reason to enclose something in quotes would be if a string\n",
    "contained a character that was part of the YAML syntax itself, such as\n",
    "a colon (:)"
   ]
  },
  {
   "cell_type": "markdown",
   "metadata": {},
   "source": [
    "### Key-value Pairs (Dictionaries)\n"
   ]
  },
  {
   "cell_type": "markdown",
   "metadata": {},
   "source": [
    "<img src=\"./images/L2/L2-7.png\" alt=\"L2-7.png\" width=\"500\"/>"
   ]
  },
  {
   "cell_type": "markdown",
   "metadata": {},
   "source": [
    "### More YAML Syntax"
   ]
  },
  {
   "cell_type": "markdown",
   "metadata": {},
   "source": [
    "<img src=\"./images/L2/L2-8.png\" alt=\"L2-8.png\" width=\"600\"/>"
   ]
  },
  {
   "cell_type": "markdown",
   "metadata": {},
   "source": [
    "### YAML in Python"
   ]
  },
  {
   "cell_type": "markdown",
   "metadata": {},
   "source": [
    "<img src=\"./images/L2/L2-9.png\" alt=\"L2-9.png\" width=\"750\"/>"
   ]
  },
  {
   "cell_type": "markdown",
   "metadata": {},
   "source": [
    "### Data Models in YAML"
   ]
  },
  {
   "cell_type": "markdown",
   "metadata": {},
   "source": [
    "- Data models are a way to define the structure and content of data stored in a\n",
    "data format such as YAML.\n",
    "- Using a data model, we could explicitly state that the data in the YAML document\n",
    "must be a key-value list, and that each value must be a string.\n",
    "- **YAML does not provide any built-in mechanism for describing or\n",
    "enforcing data models.**"
   ]
  }
 ],
 "metadata": {
  "language_info": {
   "name": "python"
  }
 },
 "nbformat": 4,
 "nbformat_minor": 2
}
