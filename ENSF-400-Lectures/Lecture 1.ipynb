{
 "cells": [
  {
   "cell_type": "markdown",
   "metadata": {},
   "source": [
    "# Lecture 1\n",
    "***"
   ]
  },
  {
   "cell_type": "markdown",
   "metadata": {},
   "source": [
    "## DevOps In Software Development"
   ]
  },
  {
   "cell_type": "markdown",
   "metadata": {},
   "source": [
    "![img](./images/L1-1.png)"
   ]
  },
  {
   "cell_type": "markdown",
   "metadata": {},
   "source": [
    "### What is `Dev`?"
   ]
  },
  {
   "cell_type": "markdown",
   "metadata": {},
   "source": [
    "- `Software development`\n",
    "- `Write code` to implement functions\n",
    "- `Fix bugs` found in software testing and production\n",
    "- Job title: Software Development Engineer (SDE)"
   ]
  },
  {
   "cell_type": "markdown",
   "metadata": {},
   "source": [
    "### What is `Ops`?"
   ]
  },
  {
   "cell_type": "markdown",
   "metadata": {},
   "source": [
    "- `Deploy the software` in production environment in a highly available method\n",
    "- `Monitor health` of the applications\n",
    "- `Resolve dependency and integration` with different components\n",
    "- `Collection of Logs`\n",
    "- `Upgrades`\n",
    "- Job title: Site Reliability Engineer (SRE)"
   ]
  },
  {
   "cell_type": "markdown",
   "metadata": {},
   "source": [
    "### What is `DevOps`?"
   ]
  },
  {
   "cell_type": "markdown",
   "metadata": {},
   "source": [
    "- DevOps is a set of software\n",
    "development practices that `combine`:\n",
    "   - `Software development` (Dev)\n",
    "   - `Information-technology` operations (Ops)\n",
    "\n",
    "- `Shorten the systems-development life cycle`, \n",
    "while `delivering features`, `fixes`, and\n",
    "`updates` continuously in close alignment\n",
    "with business objectives\n",
    "\n",
    "![img](./images/L1-2.png)"
   ]
  },
  {
   "cell_type": "markdown",
   "metadata": {},
   "source": [
    "## About DevOps"
   ]
  },
  {
   "cell_type": "markdown",
   "metadata": {},
   "source": [
    "- DevOps is all about `configuration management` and `automation`\n",
    "- `Infrastructure` as Code: Terraform\n",
    "- `Configuration` as Code: docker-compose/Kubernetes"
   ]
  },
  {
   "cell_type": "markdown",
   "metadata": {},
   "source": [
    "### Benefits"
   ]
  },
  {
   "cell_type": "markdown",
   "metadata": {},
   "source": [
    "- `Automation` of the `infrastructure environment` provides `standardization`\n",
    "- Setups are `free of human error`\n",
    "- `Collaboration` is enhanced between `operations` and `development`\n",
    "- `Prevents` configurations from `drifting`\n",
    "- Makes infrastructure `more flexible`, `ready to scale`\n",
    "- Each step is `consistent` across all resources\n",
    "- `Version control` is a given"
   ]
  },
  {
   "cell_type": "markdown",
   "metadata": {},
   "source": [
    "## Industry Trend"
   ]
  },
  {
   "cell_type": "markdown",
   "metadata": {},
   "source": [
    "- `DevOps engineers` are `in high demand` as `cloud-native` \n",
    "environment faces explosive growth\n",
    "- Software engineers also need `devops skills` to accelerate development`\n",
    "- `Networking` world needs a lot of `automations and devops`"
   ]
  }
 ],
 "metadata": {
  "language_info": {
   "name": "python"
  }
 },
 "nbformat": 4,
 "nbformat_minor": 2
}
