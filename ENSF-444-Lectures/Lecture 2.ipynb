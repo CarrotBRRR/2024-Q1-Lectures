{
 "cells": [
  {
   "cell_type": "markdown",
   "metadata": {},
   "source": [
    "# Lecture 2"
   ]
  },
  {
   "cell_type": "markdown",
   "metadata": {},
   "source": [
    "## AI Ethics"
   ]
  },
  {
   "cell_type": "markdown",
   "metadata": {},
   "source": [
    "### Examples of bias in AI"
   ]
  },
  {
   "cell_type": "markdown",
   "metadata": {},
   "source": [
    "- **`Job search`**: A job search platform `may discriminate against women``\n",
    "by `offering them lower positions` than men with similar or lower\n",
    "qualifications. This may happen because the platform's `algorithm relies on historical data` \n",
    "that shows a gender gap in the labor market (IBM\n",
    "Data and AI Team, 2023).\n",
    "\n",
    "- **`Finance`**: A loan approval system may `unfairly judge applicants` based\n",
    "on their gender and marital status, as it assigns lower scores to\n",
    "women and single people. This may happen because the system's\n",
    "algorithm uses `historical data` that reflects social norms and\n",
    "stereotypes (Pazzanese, 2023)."
   ]
  },
  {
   "cell_type": "markdown",
   "metadata": {},
   "source": [
    "### Types of Bias\n",
    "- **`Reporting` Bias**: Data `does not reflect the real-world` frequency of events or\n",
    "outcomes, because `people tend to document the unusual` or memorable\n",
    "more than the ordinary.\n",
    "\n",
    "- **`Automation` Bias**: Results from `automated systems are favored` over those\n",
    "from non-automated systems, regardless of their error rates.\n",
    "\n",
    "- **`Selection` Bias**: `Data is not representative` of the real-world distribution,\n",
    "because of `improper or non-random selection methods`.\n",
    "\n",
    "- **`Group Attribution` Bias**: `Assumptions` are made about individuals `based on the group` \n",
    "they belong to, resulting in `in-group preference` or `out-group stereotyping`.\n",
    "\n",
    "- **`Implicit` Bias**: `Assumptions` are made based on one's own mental models\n",
    "and `personal experiences`, which may not apply more generally. \n",
    "*A common form of implicit bias is confirmation bias*, where data is processed in ways\n",
    "that affirm preexisting beliefs."
   ]
  },
  {
   "cell_type": "markdown",
   "metadata": {},
   "source": [
    "## What is Generative AI?"
   ]
  },
  {
   "cell_type": "markdown",
   "metadata": {},
   "source": [
    "- Generative AI is any software that uses AI to `generate content based on a prediction` of what the user wants\n",
    "- Uses downloaded dataset of `content from the internet to train` the model\n",
    "- `NOT a live search` of the internet\n",
    "- Created using `large language models (LLMs)`\n",
    "- One popular example is ChatGPT"
   ]
  },
  {
   "cell_type": "markdown",
   "metadata": {},
   "source": [
    "### What is ChatGPT?"
   ]
  },
  {
   "cell_type": "markdown",
   "metadata": {},
   "source": [
    "- A generative AI tool developed by OpenAI\n",
    "- The free version is trained on publicly-available data up to September 2021\n",
    "- `May give` you the wrong information (**``hallucinations``**)\n",
    "- `Does not include a compiler`, so it cannot check if the code it gives you is correct\n",
    "    - Answers are `based on predictive text`, so code syntax might be correct, but logic is wrong"
   ]
  },
  {
   "cell_type": "markdown",
   "metadata": {},
   "source": [
    "#### What are hallucinations?"
   ]
  },
  {
   "cell_type": "markdown",
   "metadata": {},
   "source": [
    "- If the generative AI tool `cannot find the information` you are looking for, it will `make it up`\n",
    "- Very common when you ask for references\n",
    "    - This is because most publications are not publicly available"
   ]
  },
  {
   "cell_type": "markdown",
   "metadata": {},
   "source": [
    "### What can you use it for?"
   ]
  },
  {
   "cell_type": "markdown",
   "metadata": {},
   "source": [
    "#### Ethical Uses:"
   ]
  },
  {
   "cell_type": "markdown",
   "metadata": {},
   "source": [
    "- Explain concepts\n",
    "    - Can simplify complex concepts\n",
    "\n",
    "- Resource Creation\n",
    "    - Create Flash cards, revision activities, analytical tools\n",
    "    - Create activities to help with better understanding and recall\n",
    "\n",
    "- Idea Generation\n",
    "    - Simulate creative thinking and ideas\n",
    "\n",
    "- Feedback and evaluation\n",
    "    - Provide instant feedback on work to improve quality before submission\n",
    "\n",
    "- Brainstorming\n",
    "    - Create ideas or topics for work to provide different suggestions or prespectives\n",
    "\n",
    "- Presenntation Skills\n",
    "    - Provide suggestions to improve presentation\n",
    "\n",
    "- Citation and Formatting\n",
    "    - Provide correct referencing and in-text citation advice\n",
    "\n",
    "- Locate Sources\n",
    "    - Find Sources to help with research"
   ]
  },
  {
   "cell_type": "markdown",
   "metadata": {},
   "source": [
    "#### Unethical Uses:"
   ]
  },
  {
   "cell_type": "markdown",
   "metadata": {},
   "source": [
    "- Plagiarism\n",
    "\n",
    "- Assignemnt Outsourcing\n",
    "\n",
    "- Misrepresenting Abilities\n",
    "\n",
    "- Improper Reference Checking"
   ]
  },
  {
   "cell_type": "markdown",
   "metadata": {},
   "source": [
    "### Copyright Issues"
   ]
  },
  {
   "cell_type": "markdown",
   "metadata": {},
   "source": [
    "- If a generative AI model uses copyrighted material in its training model, should it compensate the original owner?\n",
    "- If a generative AI creates “new” material, should it be copyrighted?\n",
    "- If yes, who owns it?\n",
    "- If you use content generated by a generative AI model without citing it, is it plagiarism?"
   ]
  },
  {
   "cell_type": "markdown",
   "metadata": {},
   "source": [
    "## Generative AI Course Policy"
   ]
  },
  {
   "cell_type": "markdown",
   "metadata": {},
   "source": [
    "- Focus on ethical uses for generative AI\n",
    "- Can use generative AI to assist with assignments but must cite usage\n",
    "    - Assignments should still be mostly your own work – you won’t learn anything if you use AI for everything\n",
    "- Generative AI isn’t perfect – need to have a good grasp of fundamentals to understand if output is correct"
   ]
  }
 ],
 "metadata": {
  "language_info": {
   "name": "python"
  }
 },
 "nbformat": 4,
 "nbformat_minor": 2
}
