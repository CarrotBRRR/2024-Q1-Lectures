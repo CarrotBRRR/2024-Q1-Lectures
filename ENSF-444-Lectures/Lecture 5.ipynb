{
 "cells": [
  {
   "cell_type": "markdown",
   "metadata": {},
   "source": [
    "# Lecture 4\n",
    "Jan 19, 2024\n",
    "***"
   ]
  },
  {
   "cell_type": "markdown",
   "metadata": {},
   "source": [
    "## Model Validation"
   ]
  },
  {
   "cell_type": "markdown",
   "metadata": {},
   "source": [
    "### Training and Test Sets"
   ]
  },
  {
   "cell_type": "markdown",
   "metadata": {},
   "source": [
    "- **Training Set:** <br/>\n",
    "The training set is the\n",
    "largest part of the dataset and the\n",
    "foundation for model building.\n",
    "Machine learning algorithms use this\n",
    "segment to learn from the data’s\n",
    "patterns.\n",
    "<br/><br/>\n",
    "- **Test Set:**<br/>\n",
    "Different from the training set, the test set serves as an\n",
    "unbiased measure for evaluating the\n",
    "model’s performance on completely\n",
    "new and unseen data."
   ]
  },
  {
   "cell_type": "markdown",
   "metadata": {},
   "source": [
    "### Cross-Validation\n",
    "A technique to `evaluate the performance` of a machine learning model on unseen data."
   ]
  },
  {
   "cell_type": "markdown",
   "metadata": {},
   "source": [
    "- It involves `splitting the data` into `multiple subsets` and using each\n",
    "`subset as a test set` while `training on the rest` of the data.\n",
    "- This way, the model is `tested on different` parts of the data, and\n",
    "the `average score` is used as an estimate of the `generalization error`."
   ]
  },
  {
   "cell_type": "markdown",
   "metadata": {},
   "source": [
    "- Can use cross-validation to test validation with the full dataset\n",
    "- Repeat steps multiple times to validate the model and the selected\n",
    "hyperparameters\n",
    "- To test the model five times (cv = 5), use the following code:\n",
    "12"
   ]
  },
  {
   "cell_type": "code",
   "execution_count": null,
   "metadata": {
    "vscode": {
     "languageId": "plaintext"
    }
   },
   "outputs": [],
   "source": [
    "from sklearn.cross_validation import cross_val_score\n",
    "cross_val_score(model, X, y, cv=5)"
   ]
  },
  {
   "cell_type": "markdown",
   "metadata": {},
   "source": [
    "#### Validating Your Model"
   ]
  },
  {
   "cell_type": "markdown",
   "metadata": {},
   "source": [
    "- The `quality` of your model is influenced by how you \n",
    "`divide your data` into `training and testing sets`.\n",
    "- In the basic machine learning example that we worked on, we\n",
    "only measured the accuracy score for one data split.\n",
    "- How would the accuracy change if the data split was different,\n",
    "either for better or worse?"
   ]
  },
  {
   "cell_type": "markdown",
   "metadata": {},
   "source": [
    "#### Stratified K-Fold\n",
    "When working with a `small dataset` like the Iris dataset, which has only 150\n",
    "samples, the cross-validation `strategy choice is crucial`.\n",
    "Using `StratifiedKFold` for splitting a small dataset into train and test sets offers\n",
    "several benefits:\n",
    "1. Preserving Data Distribution\n",
    "2. More Reliable Performance Estimates.\n",
    "3. Preventing Overfitting\n",
    "4. Robustness to Variability\n",
    "5. Comparable Results"
   ]
  },
  {
   "cell_type": "markdown",
   "metadata": {},
   "source": [
    "## Model Selection"
   ]
  },
  {
   "cell_type": "markdown",
   "metadata": {},
   "source": [
    "### Bias and Variance"
   ]
  },
  {
   "cell_type": "markdown",
   "metadata": {},
   "source": [
    "Bias and variance are two `types of errors` that affect the performance of\n",
    "machine learning models. <br/>According to Python Data Science Handbook, they\n",
    "are defined as follows:\n",
    "\n",
    "**Bias:**<br/> The difference between the model’s predicted value and the actual\n",
    "value.\n",
    "- Bias is caused by wrong assumptions or simplifications made by the model to\n",
    "approximate the target function.\n",
    "- High bias models tend to underfit the data, meaning they cannot capture the\n",
    "complexity or patterns in the data.\n",
    "\n",
    "**Variance:**<br/> The sensitivity of the model to changes in the training\n",
    "data.\n",
    "- Variance is caused by the model being too flexible or complex, and\n",
    "fitting the noise as well as the signal in the data.\n",
    "- High variance models tend to overfit the data, meaning they cannot\n",
    "generalize well to new or unseen data."
   ]
  },
  {
   "cell_type": "markdown",
   "metadata": {},
   "source": [
    "The Bias-Variance Trade-Off\n",
    "• The left model tries to use a straight\n",
    "line to fit the data.\n",
    "• However, the data is too complex\n",
    "for a straight line, so the left model\n",
    "cannot capture the data well.\n",
    "• This is called underfitting the data\n",
    "which means the model is not\n",
    "flexible enough to handle all the\n",
    "data points.\n",
    "• In other words, the model has a\n",
    "high bias."
   ]
  },
  {
   "cell_type": "markdown",
   "metadata": {},
   "source": [
    "The right model uses a complex\n",
    "polynomial to fit the data.\n",
    "• This model can capture the small\n",
    "details in the data, but its exact\n",
    "shape is more influenced by the\n",
    "noise in the data than the true\n",
    "nature of the data source.\n",
    "• This is called overfitting the data -\n",
    "the model is too flexible and fits the\n",
    "noise as well as the data pattern.\n",
    "• This means that the model has a\n",
    "high variance."
   ]
  },
  {
   "cell_type": "markdown",
   "metadata": {},
   "source": [
    "Validation Curve\n",
    "\n",
    "Image Source: https://jakevdp.github.io/PythonDataScienceHandbook/05.03-hyperparameters-and-model-validation.html\n",
    "• The training score is always\n",
    "higher than the validation score.\n",
    "• The best validation score shows\n",
    "the optimal balance of bias and\n",
    "variance.\n",
    "• Hyperparameters may have to be\n",
    "adjusted to get the best model."
   ]
  },
  {
   "cell_type": "markdown",
   "metadata": {},
   "source": []
  }
 ],
 "metadata": {
  "language_info": {
   "name": "python"
  }
 },
 "nbformat": 4,
 "nbformat_minor": 2
}
