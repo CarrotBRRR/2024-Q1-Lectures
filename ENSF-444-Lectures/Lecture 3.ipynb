{
 "cells": [
  {
   "cell_type": "markdown",
   "metadata": {},
   "source": [
    "# Lecture 4\n",
    "***"
   ]
  },
  {
   "cell_type": "markdown",
   "metadata": {},
   "source": [
    "## **Common Types of Datasets**"
   ]
  },
  {
   "cell_type": "markdown",
   "metadata": {},
   "source": [
    "- **Feature-based data:** Consists of multiple `attributes` or `characteristics` of\n",
    "the data sample, such as height, weight, age, etc.  \n",
    "Each column represents a different feature of the data sample.\n",
    "\n",
    "- **Time series data:** Consists of values that `change over time`, such as stock\n",
    "prices, weather data, sensor data, or audio data. Each entry represents a\n",
    "different point in time.  \n",
    "\n",
    "- **Image data:** Consists of pixels, shapes, or colors, such as photos,\n",
    "drawings, logos, or icons. Each data sample `contains an image`.\n",
    "\n",
    "- **Text (language) data:** Consists of words, sentences, or documents, such\n",
    "as tweets, reviews, news articles, or books. Each data sample contains a\n",
    "`series of text` or `spoken words`."
   ]
  },
  {
   "cell_type": "markdown",
   "metadata": {},
   "source": [
    "## **Data Statistics**"
   ]
  },
  {
   "cell_type": "markdown",
   "metadata": {},
   "source": [
    "- Examining the first few rows of data can `verify` if the data is `imported correctly.`\n",
    "\n",
    "- You also need to recognize the symbol for `NaN values`, which are\n",
    "assigned to empty cells by default.\n",
    "\n",
    "- Some datasets may also use specific values, such as `-1 or 999`, to\n",
    "indicate `missing values`. This is why `checking the metadata`, which\n",
    "describes the data and its attributes, is important.\n",
    "\n",
    "- Understanding the data’s shape and statistics can help you choose a\n",
    "`suitable analysis method`, such as mean, variance, and correlation"
   ]
  },
  {
   "cell_type": "markdown",
   "metadata": {},
   "source": [
    "## **Data Processing**"
   ]
  },
  {
   "cell_type": "markdown",
   "metadata": {},
   "source": [
    "### **Why Do We Need to Process Datasets?**"
   ]
  },
  {
   "cell_type": "markdown",
   "metadata": {},
   "source": [
    "- If the dataset is based on `real-life data`, it `might not be perfect`\n",
    "- Your dataset might include:\n",
    "    - Missing values\n",
    "    - Erroneous measurements\n",
    "    - Noise"
   ]
  },
  {
   "cell_type": "markdown",
   "metadata": {},
   "source": [
    "#### **Missing Values**"
   ]
  },
  {
   "cell_type": "markdown",
   "metadata": {},
   "source": [
    "##### **How to Find Missing Values in a Pandas DataFrame**"
   ]
  },
  {
   "cell_type": "markdown",
   "metadata": {},
   "source": [
    "- `Check the data type` for each column using `df.dtypes`. If a column has invalid\n",
    "data points, such as empty strings or non-numeric values, the data type will\n",
    "be object.\n",
    "\n",
    "- You can either `manually change` the data type for all the columns using\n",
    "`df.astype()` or `replace the invalid` points with `NaN` using `df.replace()`.\n",
    "\n",
    "- Once all the columns are the proper data type, you can count the number of\n",
    "`NaN` values using one of these methods:\n",
    "\n",
    "    <img src=\"./images/L4/L4-1.png\" alt=\"L4-1.png\" width=\"500\"/>"
   ]
  },
  {
   "cell_type": "markdown",
   "metadata": {},
   "source": [
    "##### **Dealing with Missing Values**"
   ]
  },
  {
   "cell_type": "markdown",
   "metadata": {},
   "source": [
    "- Determine the type (MCAR, MAR, or MNAR) and cause of the missingness.\n",
    "This guides your choice of method.\n",
    "- Examine the pattern and extent of the missing data. This shows how the\n",
    "missing data affects the data quality and analysis validity.\n",
    "- Select a method that fits the data and analysis. Common methods are\n",
    "deleting, imputing, or using the missingness as a feature. Each method\n",
    "has pros and cons, and you should weigh the trade-offs and assumptions.\n",
    "\n",
    "<br/>\n",
    "<li><em><strong>MCAR:<strong\\> Missing Completely At Random<em\\><br\\><li\\>\n",
    "<li><em><strong>MAR:<strong\\> Missing At Random<em\\><br\\><li\\>\n",
    "<li><em><strong>MNAR:<strong\\> Missing Not At Random<em\\><br/><li\\>"
   ]
  },
  {
   "cell_type": "markdown",
   "metadata": {},
   "source": [
    "Pandas offers several built-in functions to deal with missing values\n",
    "in different ways.\n",
    "- You can choose to remove the rows or columns that contain NaN\n",
    "values,\n",
    "- or you can replace them with a specific value or a calculated\n",
    "value based on the rest of the data."
   ]
  },
  {
   "cell_type": "markdown",
   "metadata": {},
   "source": [
    "##### Dropping NaN Values"
   ]
  },
  {
   "cell_type": "markdown",
   "metadata": {},
   "source": [
    "- Dropping values is easy with a Series,\n",
    "as you can `drop the values individually`\n",
    "- For `DataFrames`, it is a bit more\n",
    "`complicated`, as you can’t have an\n",
    "uneven number of rows\n",
    "- You can `drop any row` or `drop any column` \n",
    "that has at least one NaN value\n",
    "(based on the `specified axis`)\n",
    "- Or you can use the `“how”` or `“thresh”`\n",
    "keywords to `specify the number of NaN` values \n",
    "that must exist `before you drop`\n",
    "the row or column."
   ]
  },
  {
   "cell_type": "markdown",
   "metadata": {},
   "source": [
    "##### Filling NaN Values"
   ]
  },
  {
   "cell_type": "markdown",
   "metadata": {},
   "source": [
    "- **Forward-fill:** Use the previous valid value to fill the missing value, which\n",
    "can be useful for time series data.\n",
    "- **Back-fill:** Use the next valid value to fill the missing value, which can be\n",
    "useful for reverse time series data.\n",
    "- **Custom code:** Write your own logic to fill the missing values, which can\n",
    "be useful for complex or specific cases.\n",
    "The choice of method depends on the source and nature of the data and the\n",
    "desired outcome."
   ]
  },
  {
   "cell_type": "markdown",
   "metadata": {},
   "source": [
    "#### **Errors and Noise**"
   ]
  },
  {
   "cell_type": "markdown",
   "metadata": {},
   "source": [
    "##### **Detecting Errors in Real Measurements**"
   ]
  },
  {
   "cell_type": "markdown",
   "metadata": {},
   "source": [
    "- When collecting data from the real world, there might be some\n",
    "`inaccuracies` due to various factors such as `faulty equipment` or\n",
    "`environmental noise`.\n",
    "- To identify `potential outliers`, you can use different methods depending\n",
    "on the data's characteristics and shape, such as `visualizing` or\n",
    "`analyzing statistically`.\n",
    "- For instance, you can look at how far they are from the center of the\n",
    "data.\n",
    "- After finding the errors, you can handle them in the same way as you\n",
    "handled the `NaN values`. A simple way to code this is to change all the\n",
    "`incorrect values to np.nan` and then use your preferred method to\n",
    "replace the missing values."
   ]
  },
  {
   "cell_type": "markdown",
   "metadata": {},
   "source": [
    "**Example:**\n",
    "\n",
    "<img src=\"./images/L4/L4-2.png\" alt=\"L4-2.png\" width=\"500\"/>"
   ]
  },
  {
   "cell_type": "markdown",
   "metadata": {},
   "source": [
    "#### **Machine Learning for Error Detection**"
   ]
  },
  {
   "cell_type": "markdown",
   "metadata": {},
   "source": [
    "- Sometimes, you `can’t detect` the errors with `simple visualization` and \n",
    "`statistical methods`.\n",
    "- For `communication signals`, the error is `contained within` the signal, in the\n",
    "form of noise.\n",
    "- Error detection can also be used to `detect bad actors` and other cybersecurity\n",
    "risks.\n",
    "- ML methods have been developed to address these issues, and will be\n",
    "discussed later in this course."
   ]
  },
  {
   "cell_type": "markdown",
   "metadata": {},
   "source": [
    "## **Summary**"
   ]
  },
  {
   "cell_type": "markdown",
   "metadata": {},
   "source": [
    "- It is important to `understand your data` before you start implementing\n",
    "your machine learning method\n",
    "- Data statistics can help you determine `which ML method` to use – will\n",
    "discuss more later in the course\n",
    "- `Missing and erroneous/noisy values` need to be \n",
    "`addressed before starting ML analysis`"
   ]
  }
 ],
 "metadata": {
  "language_info": {
   "name": "python"
  }
 },
 "nbformat": 4,
 "nbformat_minor": 2
}
