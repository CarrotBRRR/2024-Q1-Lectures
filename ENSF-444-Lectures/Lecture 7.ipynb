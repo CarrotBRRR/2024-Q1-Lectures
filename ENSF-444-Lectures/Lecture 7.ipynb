{
 "cells": [
  {
   "cell_type": "markdown",
   "metadata": {},
   "source": [
    "### Lasso Regression\n",
    "- An alternative to Ridge for regularizing linear regression is Lasso\n",
    "- As with ridge regression, the lasso also restricts coefficients to be close to\n",
    "zero, but in a slightly different way, called L1 regularization\n",
    "- The 𝑙_1-norm of the w's is defined as:\n",
    "    <img src=\"./images/L6/L6-5.png\" alt=\"L6-5.png\" width=\"600\"/>\n",
    "- The cost function to minimize becomes:\n",
    "    <img src=\"./images/L6/L6-6.png\" alt=\"L6-6.png\" width=\"600\"/>\n",
    "- The consequence of L_1 regularization is that when using the lasso, some\n",
    "coefficients are exactly zero\n",
    "- This means some features are entirely ignored by the model\n",
    "- This can be seen as a form of automatic feature selection\n",
    "- Having some coefficients be exactly zero can make a model easier to\n",
    "interpret and can reveal the most important features of your model\n",
    "## Mean Squared Error (MSE)\n",
    "- `The Mean Squared Error (MSE)` is a fundamental metric used to quantify the\n",
    "goodness of fit of a regression model by `measuring the average squared difference` \n",
    "between the `predicted values`, $\\hat{y}$, and the `actual values`, 𝒚, of the\n",
    "dependent variable. It provides a measure of how well the model’s predictions\n",
    "align with the observed data [Powers, 2011, Scott, 2010].\n",
    "\n",
    "<br/>\n",
    "&emsp;<img src=\"./images/L6/L6-2.png\" alt=\"L6-2.png\" width=\"300\"/>\n",
    "\n",
    "- 𝑁 represents the `number of data points` in the dataset.\n",
    "- 𝒚[𝒊] signifies the `actual value` of the dependent variable for the i-th data\n",
    "point.\n",
    "- $\\hat{y}$[𝒊] corresponds to the `predicted value` of the dependent variable for\n",
    "the i-th data point based on the regression model"
   ]
  },
  {
   "cell_type": "markdown",
   "metadata": {},
   "source": []
  }
 ],
 "metadata": {
  "language_info": {
   "name": "python"
  }
 },
 "nbformat": 4,
 "nbformat_minor": 2
}
