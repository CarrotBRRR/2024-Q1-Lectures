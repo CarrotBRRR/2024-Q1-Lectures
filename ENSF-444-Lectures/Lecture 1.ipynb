{
 "cells": [
  {
   "cell_type": "markdown",
   "metadata": {},
   "source": [
    "# Lecture 1"
   ]
  },
  {
   "cell_type": "markdown",
   "metadata": {},
   "source": [
    "## What is Machine Learning?\n",
    "- Can be considered as a subfield of artificial intelligence\n",
    "- Machine learning is used to build mathematical models of data\n",
    "- Essentially, machine learning is used to “learn” the pattern of the data to create the appropriate mathematical model for prediction, classification, etc."
   ]
  },
  {
   "cell_type": "markdown",
   "metadata": {},
   "source": [
    "## Different Types of Machine Learning\n",
    "- Supervised Learning\n",
    "- Regression and Classification\n",
    "- Unsupervised Learning\n",
    "- Clustering and Dimensionality Reduction\n",
    "- Semi-Supervised Learning\n",
    "- Reinforcement Learning"
   ]
  },
  {
   "cell_type": "markdown",
   "metadata": {},
   "source": [
    "### Supervised Learning\n",
    "![L1-1.png](./images/L1-1.png)"
   ]
  },
  {
   "cell_type": "markdown",
   "metadata": {},
   "source": [
    "### Semi-Supervised Learning\n",
    "![L1-2.png](./images/L1-2.png)"
   ]
  },
  {
   "cell_type": "markdown",
   "metadata": {},
   "source": [
    "### Reinforcement Learning\n",
    "![L1-3.png](./images/L1-3.png)"
   ]
  },
  {
   "cell_type": "markdown",
   "metadata": {},
   "source": [
    "### Training and Testing Your Model\n",
    "- The available data is split into two sets: training set and\n",
    "testing set\n",
    "- The training set is used to train the selected model, in order to\n",
    "find the relationship between the input and the output\n",
    "- The testing set is used to test if the relationship is correct, by\n",
    "comparing the produced output to the expected output\n",
    "- How you select your data is very important."
   ]
  }
 ],
 "metadata": {
  "language_info": {
   "name": "python"
  }
 },
 "nbformat": 4,
 "nbformat_minor": 2
}
