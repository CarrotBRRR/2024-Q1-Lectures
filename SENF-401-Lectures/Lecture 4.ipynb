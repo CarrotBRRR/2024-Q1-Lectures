{
 "cells": [
  {
   "cell_type": "markdown",
   "metadata": {},
   "source": [
    "# Lecture 4\n",
    "***"
   ]
  },
  {
   "cell_type": "markdown",
   "metadata": {},
   "source": [
    "## Architecture Styles"
   ]
  },
  {
   "cell_type": "markdown",
   "metadata": {},
   "source": [
    "- `Recurring patterns` used in organizing structure and components of a software system\n",
    "- Choosing the right architecture style is a critical decision that influences various aspects of software development.\n",
    "\n",
    "- Goals:\n",
    "    - Scalability\n",
    "    - Testability\n",
    "    - Consistency"
   ]
  },
  {
   "cell_type": "markdown",
   "metadata": {},
   "source": [
    "### Layered (N-Tiered)"
   ]
  },
  {
   "cell_type": "markdown",
   "metadata": {},
   "source": [
    "- Each layer provides specific functionalities and services to the layers above\n",
    "- Key Charactaristics:\n",
    "    - Simplicity\n",
    "    - Modularity\n",
    "    - Maintainability\n",
    "    - Separation of Concerns\n",
    "\n",
    "    <img src=\"./images/L4/L4-1.png\" alt=\"L4-1.png\" width=\"500\"/>"
   ]
  },
  {
   "cell_type": "markdown",
   "metadata": {},
   "source": [
    "Example:\n",
    "\n",
    "<img src=\"./images/L4/L4-2.png\" alt=\"L4-2.png\" width=\"500\"/>"
   ]
  },
  {
   "cell_type": "markdown",
   "metadata": {},
   "source": [
    "- Pros:\n",
    "    - Small and simple applications\n",
    "    - Budget constraints\n",
    "    - Demand maintainability\n",
    "\n",
    "\n",
    "- Cons:\n",
    "    - Realtime\n",
    "    - Low Performance\n",
    "        - Each Layer communicates needs to communicate other layers"
   ]
  },
  {
   "cell_type": "markdown",
   "metadata": {},
   "source": [
    "### MVC (Model, View, Control)"
   ]
  },
  {
   "cell_type": "markdown",
   "metadata": {},
   "source": [
    "- Separate the Concerns of Data Management, UI, and App Logic.\n",
    "\n",
    "- KEY CHARACTERISTICS\n",
    "    - Separation of\n",
    "    Concerns\n",
    "    - User Interaction\n",
    "    - Loose Coupling\n",
    "    - Layered-Oriented\n",
    "\n",
    "    <img src=\"./images/L4/L4-3.png\" alt=\"L4-3.png\" width=\"500\"/>\n",
    "    <img src=\"./images/L4/L4-4.png\" alt=\"L4-4.png\" width=\"500\"/>"
   ]
  },
  {
   "cell_type": "markdown",
   "metadata": {},
   "source": [
    "### Pipeline Architecture"
   ]
  },
  {
   "cell_type": "markdown",
   "metadata": {},
   "source": [
    "- Structures Processing of Data or Tasks as a Series of Connected Processing Stages\n",
    "\n",
    "- KEY CHARACTERISTICS\n",
    "    - Sequential\n",
    "    - Modularity\n",
    "    - Parallelism\n",
    "    - Isolation\n",
    "\n",
    "    <img src=\"./images/L4/L4-5.png\" alt=\"L4-5.png\" width=\"500\"/>"
   ]
  },
  {
   "cell_type": "markdown",
   "metadata": {},
   "source": [
    "### Microkernel Architecture"
   ]
  },
  {
   "cell_type": "markdown",
   "metadata": {},
   "source": [
    "- Separates Core Functionality (Microkernel) from Additional Services and Functionalities\n",
    "\n",
    "- KEY CHARACTERISTICS\n",
    "    - Flexibility\n",
    "    - Modularity\n",
    "    - Reduced Complexity\n",
    "    - Portability\n",
    "\n",
    "    <img src=\"./images/L4/L4-6.png\" alt=\"L4-6.png\" width=\"500\"/>\n",
    "    <br/>\n",
    "    <img src=\"./images/L4/L4-7.png\" alt=\"L4-7.png\" width=\"500\"/>"
   ]
  },
  {
   "cell_type": "markdown",
   "metadata": {},
   "source": [
    "### Service-Based Architecture"
   ]
  },
  {
   "cell_type": "markdown",
   "metadata": {},
   "source": [
    "- Structures application as a Collection of Independently Deployable Services\n",
    "\n",
    "- KEY CHARACTERISTICS\n",
    "    - Loose Coupling\n",
    "    - Interoperability\n",
    "    - Independently\n",
    "    - Deployable\n",
    "    - Reusability\n",
    "    \n",
    "    <img src=\"./images/L4/L4-8.png\" alt=\"L4-8.png\" width=\"500\"/>\n",
    "    <br/>\n",
    "    <img src=\"./images/L4/L4-9.png\" alt=\"L4-9.png\" width=\"750\"/>\n",
    "    <br/>\n",
    "    <img src=\"./images/L4/L4-10.png\" alt=\"L4-10.png\" width=\"750\"/>"
   ]
  },
  {
   "cell_type": "markdown",
   "metadata": {},
   "source": [
    "### Event-Driven Architecture"
   ]
  },
  {
   "cell_type": "markdown",
   "metadata": {},
   "source": [
    "- System Flow is determined by User Actions or Messages from Other Systems\n",
    "\n",
    "- KEY CHARACTERISTICS\n",
    "    - Events\n",
    "    - Responsiveness\n",
    "    - Communication\n",
    "    - Scalability\n",
    "\n",
    "    <img src=\"./images/L4/L4-11.png\" alt=\"L4-11.png\" width=\"500\"/>\n",
    "    <br/>\n",
    "    <img src=\"./images/L4/L4-12.png\" alt=\"L4-12.png\" width=\"600\"/>"
   ]
  },
  {
   "cell_type": "markdown",
   "metadata": {},
   "source": [
    "### Other Architectures"
   ]
  },
  {
   "cell_type": "markdown",
   "metadata": {},
   "source": [
    "<img src=\"./images/L4/L4-13.png\" alt=\"L4-13.png\" width=\"750\"/>"
   ]
  },
  {
   "cell_type": "markdown",
   "metadata": {},
   "source": [
    "## Architecture Charactaristics"
   ]
  },
  {
   "cell_type": "markdown",
   "metadata": {},
   "source": [
    "- SCALABILITY\n",
    "- TESTABILITY\n",
    "- DATA CONSISTENCY \n",
    "- TEAMWORK\n",
    "\n",
    "<br/>\n",
    "\n",
    "- MAINTAINABILITY\n",
    "- MODULARITY\n",
    "- FLEXIBILITY\n",
    "- REUSABILITY\n",
    "- INTEROPERABILITY\n",
    "- SIMPLICITY\n",
    "- PORTABILITY\n",
    "- DEPLOYABILITY"
   ]
  }
 ],
 "metadata": {
  "language_info": {
   "name": "python"
  }
 },
 "nbformat": 4,
 "nbformat_minor": 2
}
