{
 "cells": [
  {
   "cell_type": "markdown",
   "metadata": {},
   "source": [
    "# Chapter 3\n",
    "January 26, 2024\n",
    "***"
   ]
  },
  {
   "cell_type": "markdown",
   "metadata": {},
   "source": [
    "## Isolating Unit Tests"
   ]
  },
  {
   "cell_type": "markdown",
   "metadata": {},
   "source": [
    "- SUTs that have no collaborators should be\n",
    "straightforward to test\n",
    "- But typically SUTs have dependencies\n",
    "- Remember UML’s collaboration diagram\n",
    "- Unit tests should NOT have dependencies (i.e.\n",
    "independent runs of unit tests)\n",
    "- Testing collaborative units together; integration\n",
    "test, feature test will come later"
   ]
  },
  {
   "cell_type": "markdown",
   "metadata": {},
   "source": [
    "## The Test Scenario"
   ]
  },
  {
   "cell_type": "markdown",
   "metadata": {},
   "source": [
    "- SUT is the portion of a system that is being tested (may be\n",
    "one method or class or a collection of classes or\n",
    "components)\n",
    "- Test Driver: Partial implementation of a component that\n",
    "depends on an SUT\n",
    "- If the SUT collaborates with any other classes, those classes are referred to as “depended on components” (DOC’s)\n",
    "<img src=\"../images/C3/C3-2.png\" alt=\"C3-2.png\" width=\"500\"/>"
   ]
  },
  {
   "cell_type": "markdown",
   "metadata": {},
   "source": [
    "## Test Doubles"
   ]
  },
  {
   "cell_type": "markdown",
   "metadata": {},
   "source": [
    "- A test double is a `replacement for a DOC` (Dependent On Component)\n",
    "- Example:\n",
    "    - A system might send an email if a particular request fails \n",
    "    (e.g. insufficient funds, insufficient stock on hand, security violation, etc.)\n",
    "    - Since we don’t really want to send the email, we need to provide \n",
    "    replacement code that appears to send the email\n",
    "    - We will typically want to verify that the email was “sent”"
   ]
  },
  {
   "cell_type": "markdown",
   "metadata": {},
   "source": [
    "- `Several of them exist`\n",
    "- In this course we focus on stubs and mock\n",
    "objects<br/>\n",
    "<img src=\"../images/C3/C3-2.png\" alt=\"C3-2.png\" width=\"500\"/>"
   ]
  },
  {
   "cell_type": "markdown",
   "metadata": {},
   "source": [
    "## Stubs - Mocks"
   ]
  },
  {
   "cell_type": "markdown",
   "metadata": {},
   "source": [
    "### Why Stubs – Mocks?"
   ]
  },
  {
   "cell_type": "markdown",
   "metadata": {},
   "source": [
    "- Avoiding external dependencies:\n",
    "    - Other classes and methods, file reading, database connection, sending email, etc.\n",
    "- External dependencies must be removed for true\n",
    "Unit testing, i.e., isolation of functionalities\n",
    "- Typical targets for stubs/mocks:\n",
    "    - Database connections\n",
    "    - Web services\n",
    "    - Classes that are slow (may pass timeout) \n",
    "- Mocks and stubs are `fake Java classes` that `replace these external dependencies`"
   ]
  },
  {
   "cell_type": "markdown",
   "metadata": {},
   "source": [
    "s"
   ]
  },
  {
   "cell_type": "markdown",
   "metadata": {},
   "source": [
    "### Test Lifecycle with Stubs\n",
    "1. Setup - Prepare SUT that is being tested and its stubs\n",
    "collaborators  usually in @Before\n",
    "2. Exercise - Test the functionality  in @Test\n",
    "3. Verify state - Use asserts to check object’s state\n",
    "4. Teardown - Clean up resources  usually in @After\n",
    "[Gerard Meszaros xUnit Test Patterns]\n",
    "<img src=\"../images/C3/C3-4.png\" alt=\"C3-4.png\" width=\"500\"/>\n",
    "\n"
   ]
  },
  {
   "cell_type": "markdown",
   "metadata": {},
   "source": [
    "### Mock Objects"
   ]
  },
  {
   "cell_type": "markdown",
   "metadata": {},
   "source": [
    "- A fake object that decides whether a unit test has\n",
    "passed or failed by watching interactions between\n",
    "objects"
   ]
  },
  {
   "cell_type": "markdown",
   "metadata": {},
   "source": [
    "- Why do we need mock object?\n",
    "    - When a unit of code depends upon an external object\n",
    "- Mock object\n",
    "    - Dummy implementation for an interface or a class in\n",
    "Mock framework\n",
    "- Mock framework\n",
    "    - jMock, Mockito, PowerMocks, EasyMock (Java)\n",
    "    - SimpleTest / PHPUnit (PHP)\n",
    "    - FlexMock / Mocha (Ruby)\n",
    "    - etc."
   ]
  },
  {
   "cell_type": "markdown",
   "metadata": {},
   "source": [
    "### Test Lifecycle with Mocks"
   ]
  },
  {
   "cell_type": "markdown",
   "metadata": {},
   "source": [
    "1. Setup data - Prepare object that is being tested\n",
    "2. Setup expectation - Prepare expectations in mock\n",
    "that is being used by primary object\n",
    "3. Exercise - Test the functionality\n",
    "4. Verify expectations - Verify that correct methods\n",
    "has been invoked in mock\n",
    "5. Verify state - Use asserts to check object’s state\n",
    "6. Teardown - Clean up resources"
   ]
  },
  {
   "cell_type": "markdown",
   "metadata": {},
   "source": [
    "## Mock vs. Stub"
   ]
  },
  {
   "cell_type": "markdown",
   "metadata": {},
   "source": [
    "- Can I use stub and mock interchangeably?\n",
    "- State testing: “What is the result?”\n",
    "    - Both mocks and stubs\n",
    "- Behavioral testing: “How the result has been\n",
    "achieved?”\n",
    "    - Only mocks"
   ]
  },
  {
   "cell_type": "markdown",
   "metadata": {},
   "source": [
    "## Mock Object Frameworks"
   ]
  },
  {
   "cell_type": "markdown",
   "metadata": {},
   "source": [
    "- Stubs and mocks are usually created by various\n",
    "Mock object frameworks\n",
    "- Mock frameworks provide the following (via API):\n",
    "- Auto-generation of mock objects that implement a given\n",
    "interface\n",
    "- Methods/primitives for declaring and asserting your\n",
    "expectations  similar to unit testing assertions\n",
    "- Logging of what calls are performed on the mock objects"
   ]
  },
  {
   "cell_type": "markdown",
   "metadata": {},
   "source": []
  }
 ],
 "metadata": {
  "language_info": {
   "name": "python"
  }
 },
 "nbformat": 4,
 "nbformat_minor": 2
}
