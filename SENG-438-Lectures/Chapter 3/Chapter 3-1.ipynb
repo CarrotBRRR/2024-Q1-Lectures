{
 "cells": [
  {
   "cell_type": "markdown",
   "metadata": {},
   "source": [
    "# Chapter 3\n",
    "January 19, 2024\n",
    "***"
   ]
  },
  {
   "cell_type": "markdown",
   "metadata": {},
   "source": [
    "## Types of Testing"
   ]
  },
  {
   "cell_type": "markdown",
   "metadata": {},
   "source": [
    "### Non-Functional Testing"
   ]
  },
  {
   "cell_type": "markdown",
   "metadata": {},
   "source": [
    "Testing non-functional requirements:\n",
    "- Performance testing\n",
    "- Localization/Internationalization testing\n",
    "- Recovery testing\n",
    "- Security testing\n",
    "- Portability testing\n",
    "- Compatibility testing\n",
    "- Usability testing\n",
    "- Scalability testing\n",
    "- Reliability testing\n",
    "- ...ilities"
   ]
  },
  {
   "cell_type": "markdown",
   "metadata": {},
   "source": [
    "### Criteria Based Testing"
   ]
  },
  {
   "cell_type": "markdown",
   "metadata": {},
   "source": [
    "- What is a criterion anyway?\n",
    "- A testing related concept you build your test\n",
    "cases around it systematically and efficiently\n",
    "Partitioning\n",
    "Coverage (i.e. statement, decision, condition,\n",
    "path)\n",
    "Mutation\n",
    "Acceptance\n",
    "etc."
   ]
  },
  {
   "cell_type": "markdown",
   "metadata": {},
   "source": [
    "### Other Testing Approaches"
   ]
  },
  {
   "cell_type": "markdown",
   "metadata": {},
   "source": [
    "- Exhaustive testing\n",
    "    - Pros: guarantee\n",
    "    - Cons: infeasible in most real world applications\n",
    "- Random testing (ad-hoc, exploratory)\n",
    "    - Pros: cheap\n",
    "    - Cons: inefficient in many situations\n",
    "- Partitioning\n",
    "    - Pros: effective in theory\n",
    "    - Cons: practical solutions?"
   ]
  },
  {
   "cell_type": "markdown",
   "metadata": {},
   "source": [
    "## Unit Testing"
   ]
  },
  {
   "cell_type": "markdown",
   "metadata": {},
   "source": [
    "- Scope: Ensure that each unit (i.e. class, subsystem)\n",
    "has been implemented correctly\n",
    "    - Looking for faults in a subsystem in isolation\n",
    "    - Generally a “subsystem” means a particular class or\n",
    "object\n",
    "- Method:\n",
    "    - For a given class Foo, create another class FooTest to test\n",
    "it, containing various \"test case\" methods to run\n",
    "    - Each method looks for particular results and passes / fails\n",
    "- Often (not necessarily) based on white-box testing"
   ]
  },
  {
   "cell_type": "markdown",
   "metadata": {},
   "source": [
    "### Unit Testing Scenario"
   ]
  },
  {
   "cell_type": "markdown",
   "metadata": {},
   "source": [
    "- Grab the code you want to test (SUT)\n",
    "    - e.g. add(x,y)\n",
    "- Write a program that calls SUT and executes it with\n",
    "the setup value of its arguments and spits out the\n",
    "execution result,\n",
    "    - e.g., x=2 and y=3, result=5\n",
    "- Check if the result meets the expected result or not"
   ]
  },
  {
   "cell_type": "markdown",
   "metadata": {},
   "source": [
    "### Characteristics"
   ]
  },
  {
   "cell_type": "markdown",
   "metadata": {},
   "source": [
    "- A unit test must only test one specific unit of functionality\n",
    "(e.g. class or method)\n",
    "- It is fast\n",
    "- Less than 10-minute build\n",
    "- It does not access a database or the file system\n",
    "- It does not communicate via a network\n",
    "- It does not require any special setup to the system\n",
    "environment such as modifying a configuration file\n",
    "- It leaves the system and the system environment in the same\n",
    "state that it had prior to the test\n",
    "- Focus on developed components only"
   ]
  },
  {
   "cell_type": "markdown",
   "metadata": {},
   "source": [
    "### What to Test?"
   ]
  },
  {
   "cell_type": "markdown",
   "metadata": {},
   "source": [
    "- Focus on developed\n",
    "components and surroundings\n",
    "- One sample from each\n",
    "equivalent class of input data\n",
    "    - Works for both white box and\n",
    "black box tests\n",
    "- Invalid data\n",
    "    - Null, missing, empty, ...\n",
    "- Boundaries:\n",
    "    - Valid Input data\n",
    "    - Boundary analysis\n",
    "        - One sample from each class"
   ]
  }
 ],
 "metadata": {
  "language_info": {
   "name": "python"
  }
 },
 "nbformat": 4,
 "nbformat_minor": 2
}
