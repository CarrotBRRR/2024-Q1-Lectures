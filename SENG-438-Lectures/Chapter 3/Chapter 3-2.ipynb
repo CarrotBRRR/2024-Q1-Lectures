{
 "cells": [
  {
   "cell_type": "markdown",
   "metadata": {},
   "source": [
    "# Chapter 3\n",
    "January 19, 2024\n",
    "***"
   ]
  },
  {
   "cell_type": "markdown",
   "metadata": {},
   "source": [
    "<img src=\"../images/C3/C3-1.png\" alt=\"C3-1.png\" height=\"250\"/>"
   ]
  },
  {
   "cell_type": "markdown",
   "metadata": {},
   "source": [
    "### Terminology"
   ]
  },
  {
   "cell_type": "markdown",
   "metadata": {},
   "source": [
    "- **Test runner:** A test runner is an `executable program` that \n",
    "`runs tests` implemented using JUnit framework and reports test\n",
    "results (in command line mode) or update the display (in\n",
    "IDE)\n",
    "- **Test fixtures:** A test fixture (context) is the set of\n",
    "`preconditions or state` needed to run a test\n",
    "- **Test case:** A test case is the most `elemental class`. All unit\n",
    "tests are inherited from here\n",
    "- **Test suites:** A test suite is a `set of tests` that all \n",
    "share the `same fixture`. The order of the tests shouldn't matter\n",
    "- **Test drivers:** Modules that act as \n",
    "`temporary replacement for a calling module` and give the same output as that of the\n",
    "actual product\n",
    "- **Test execution:** The execution of an individual unit test\n",
    "proceeds as follows: `annotations @Before @Test @After`\n",
    "--or-- `setup(); Body of test; teardown()`;\n",
    "- **Test result formatter:** A test runner produces results in one\n",
    "or more `output formats`, e.g. XML\n",
    "- **Assertions:** An assertion is a function or macro that \n",
    "`verifies the behavior` (or the state) of the unit under test, e.g. true,\n",
    "false, nul"
   ]
  },
  {
   "cell_type": "markdown",
   "metadata": {},
   "source": []
  }
 ],
 "metadata": {
  "language_info": {
   "name": "python"
  }
 },
 "nbformat": 4,
 "nbformat_minor": 2
}
