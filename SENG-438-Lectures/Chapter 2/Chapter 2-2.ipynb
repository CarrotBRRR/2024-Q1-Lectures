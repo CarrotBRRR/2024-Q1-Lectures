{
 "cells": [
  {
   "cell_type": "markdown",
   "metadata": {},
   "source": [
    "# Chapter 2\n",
    "January 19, 2024\n",
    "***"
   ]
  },
  {
   "cell_type": "markdown",
   "metadata": {},
   "source": [
    "## Software Testing Life Cycle (STLC)"
   ]
  },
  {
   "cell_type": "markdown",
   "metadata": {},
   "source": [
    "<img src=\"../images/C2/C2-5.png\" alt=\"C2-5.png\" width=\"500\"/>"
   ]
  },
  {
   "cell_type": "markdown",
   "metadata": {},
   "source": [
    "### Requirement Analysis"
   ]
  },
  {
   "cell_type": "markdown",
   "metadata": {},
   "source": [
    "- Test team studies the requirements from a testing point of view\n",
    "to `identify` the `testable requirements`\n",
    "- The QA team may `understand the requirements` in detail by\n",
    "`interacting` with various `stakeholders` such as:\n",
    "    - client\n",
    "    - business analyst\n",
    "    - technical leads\n",
    "    - system architects\n",
    "    - etc.<br/>\n",
    "\n",
    "- Requirements could be either:\n",
    "    - `Functional`: What the software must do \n",
    "    - `Non-Functional`: defining system, performance, security, availability, etc.\n",
    "\n",
    "- `Automation feasibility` for the given testing project is also `done in this stage`"
   ]
  },
  {
   "cell_type": "markdown",
   "metadata": {},
   "source": [
    "#### Activities:"
   ]
  },
  {
   "cell_type": "markdown",
   "metadata": {},
   "source": [
    "- `Identify` types of tests to be performed\n",
    "- Gather `testing priorities details` and focus\n",
    "- Prepare `Requirement Traceability Matrix` (RTM)\n",
    "- Identify `test environment details` where testing is supposed\n",
    "to be carried out\n",
    "- `Automation feasibility analysis`, if required"
   ]
  },
  {
   "cell_type": "markdown",
   "metadata": {},
   "source": [
    "#### Deliverables"
   ]
  },
  {
   "cell_type": "markdown",
   "metadata": {},
   "source": [
    "- Requirement Traceability Matrix (RTM)\n",
    "- Automation feasibility report (if applicable)"
   ]
  },
  {
   "cell_type": "markdown",
   "metadata": {},
   "source": [
    "#### Requirement Traceability Matrix (RTM)"
   ]
  },
  {
   "cell_type": "markdown",
   "metadata": {},
   "source": [
    "<img src=\"../images/C2/C2-4.png\" alt=\"C2-4.png\" width=\"500\"/>"
   ]
  },
  {
   "cell_type": "markdown",
   "metadata": {},
   "source": [
    "- RTM can help test engineers by:\n",
    "    - confirming that all requirements were tested\n",
    "\n",
    "- RTM can help project managers by:\n",
    "    - Seeing if we are on schedule with development and testing"
   ]
  },
  {
   "cell_type": "markdown",
   "metadata": {},
   "source": []
  }
 ],
 "metadata": {
  "language_info": {
   "name": "python"
  }
 },
 "nbformat": 4,
 "nbformat_minor": 2
}
