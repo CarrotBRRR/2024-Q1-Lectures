{
 "cells": [
  {
   "cell_type": "markdown",
   "metadata": {},
   "source": [
    "# Chapter 2\n",
    "January 17, 2024\n",
    "***"
   ]
  },
  {
   "cell_type": "markdown",
   "metadata": {},
   "source": [
    "## Definitions:"
   ]
  },
  {
   "cell_type": "markdown",
   "metadata": {},
   "source": [
    "### Test Case:\n",
    "- Set of inputs and the expected outputs\n",
    "(oracle) for a unit/module/system under test\n",
    "### Test Suite:\n",
    "- Set of Test Cases, aka. test set "
   ]
  },
  {
   "cell_type": "markdown",
   "metadata": {},
   "source": [
    "***Without the expected outputs, a test case is NOT\n",
    "complete***"
   ]
  },
  {
   "cell_type": "markdown",
   "metadata": {},
   "source": [
    "### Direct input variable: \n",
    "- variables that controls the operation directly\n",
    "- Examples: arguments, selection menu, entered data\n",
    "field\n",
    "- Important during exploratory/unit test\n",
    "\n",
    "### Indirect input variable: \n",
    "- a variable that only influences the operations or its effects are\n",
    "propagated to the operation\n",
    "- Examples: traffic load, environmental variable\n",
    "- Important during integration testing"
   ]
  },
  {
   "cell_type": "markdown",
   "metadata": {},
   "source": [
    "## Test Case"
   ]
  },
  {
   "cell_type": "markdown",
   "metadata": {},
   "source": [
    "- A “`test case`” for a given functionality is \n",
    "`specifying` its `direct input variables` and the `expected outcome`"
   ]
  },
  {
   "cell_type": "markdown",
   "metadata": {},
   "source": [
    "- `Specification` of the `indirect input variable` gives a\n",
    "`test case` the necessary context\n",
    "- During `initial test stages` (e.g. unit testing and\n",
    "regression test), the `influence of indirect` input\n",
    "variables should be `kept to minimum` to ensure that\n",
    "the function being tested is reliable\n",
    "- `Indirect input variables` are effective \n",
    "`during integration` and system test"
   ]
  },
  {
   "cell_type": "markdown",
   "metadata": {},
   "source": [
    "## How to Design Test Suite"
   ]
  },
  {
   "cell_type": "markdown",
   "metadata": {},
   "source": [
    "1. **Requirements Table**\n",
    "    | Req #     | ??? | Descrpition  |\n",
    "    | - | - | - |\n",
    "    | | | |\n",
    "\n",
    "    <br/>\n",
    "2. **RTM: *Requirement Traceability Matrix***\n",
    "    | Test Case | Req 1     | Req 2     | ...       | Req n     |\n",
    "    | -         | -         | -         | -         | - |\n",
    "    | |\n",
    "    \n",
    "    <br/>\n",
    "    <em>Example:<em/>\n",
    "    <br/>\n",
    "    <img src=\"../images/C2/C2-4.png\" alt=\"C2-4.png\" width=\"500\"/>  \n",
    "\n",
    "3. **Test Suite Table**\n",
    "\n",
    "    <img src=\"../images/C2/C2-1.png\" alt=\"C2-1.png\" width=\"500\"/>"
   ]
  },
  {
   "cell_type": "markdown",
   "metadata": {},
   "source": [
    "## Testing Process Overview"
   ]
  },
  {
   "cell_type": "markdown",
   "metadata": {},
   "source": [
    "<img src=\"../images/C2/C2-2.png\" alt=\"C2-2.png\" width=\"500\"/>"
   ]
  },
  {
   "cell_type": "markdown",
   "metadata": {},
   "source": [
    "## Types of Test Activities"
   ]
  },
  {
   "cell_type": "markdown",
   "metadata": {},
   "source": [
    "- **Test-case Design: *Exploratory*** (human-based)\n",
    "    - Design test values based on `domain knowledge` of the program and\n",
    "`human knowledge` of testing, exploratory testing\n",
    "- **Test-case Design: *Criteria-based***\n",
    "    - Design test values to `satisfy coverage criteria` or other engineering\n",
    "goal\n",
    "- **Test Automation:**\n",
    "    - Embed test values into `executable scripts`\n",
    "- **Test Execution:**\n",
    "    - `Run tests` on the software and `record the results`\n",
    "- **Test Evaluation:**\n",
    "    - `Evaluate results` of testing, report to developers\n",
    "\n",
    "    <img src=\"../images/C2/C2-3.png\" alt=\"C2-3.png\" width=\"500\"/>"
   ]
  }
 ],
 "metadata": {
  "language_info": {
   "name": "python"
  }
 },
 "nbformat": 4,
 "nbformat_minor": 2
}
